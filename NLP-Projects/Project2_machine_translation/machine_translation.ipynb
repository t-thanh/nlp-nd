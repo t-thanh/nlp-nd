{
 "cells": [
  {
   "cell_type": "markdown",
   "metadata": {
    "collapsed": true
   },
   "source": [
    "# Artificial Intelligence Nanodegree\n",
    "## Machine Translation Project\n",
    "In this notebook, sections that end with **'(IMPLEMENTATION)'** in the header indicate that the following blocks of code will require additional functionality which you must provide. Please be sure to read the instructions carefully!\n",
    "\n",
    "## Introduction\n",
    "In this notebook, you will build a deep neural network that functions as part of an end-to-end machine translation pipeline. Your completed pipeline will accept English text as input and return the French translation.\n",
    "\n",
    "- **Preprocess** - You'll convert text to sequence of integers.\n",
    "- **Models** Create models which accepts a sequence of integers as input and returns a probability distribution over possible translations. After learning about the basic types of neural networks that are often used for machine translation, you will engage in your own investigations, to design your own model!\n",
    "- **Prediction** Run the model on English text."
   ]
  },
  {
   "cell_type": "code",
   "execution_count": 1,
   "metadata": {},
   "outputs": [
    {
     "name": "stdout",
     "output_type": "stream",
     "text": [
      "Device mapping:\n",
      "/job:localhost/replica:0/task:0/device:XLA_CPU:0 -> device: XLA_CPU device\n",
      "/job:localhost/replica:0/task:0/device:XLA_GPU:0 -> device: XLA_GPU device\n",
      "/job:localhost/replica:0/task:0/device:GPU:0 -> device: 0, name: GeForce RTX 2060 SUPER, pci bus id: 0000:08:00.0, compute capability: 7.5\n",
      "\n"
     ]
    },
    {
     "name": "stderr",
     "output_type": "stream",
     "text": [
      "Using TensorFlow backend.\n"
     ]
    }
   ],
   "source": [
    "import tensorflow as tf\n",
    "#from tensorflow.python.client import device_lib\n",
    "#def get_available_devices():\n",
    "#    local_device_protos = device_lib.list_local_devices()\n",
    "#    return [x.name for x in local_device_protos]\n",
    "#print(get_available_devices()) \n",
    "\n",
    "#print(tf.__version__)\n",
    "\n",
    "#from tensorflow import test\n",
    "#test.is_gpu_available()\n",
    "\n",
    "from keras.backend.tensorflow_backend import set_session\n",
    "config = tf.compat.v1.ConfigProto()\n",
    "config.gpu_options.allow_growth = True  # dynamically grow the memory used on the GPU\n",
    "config.log_device_placement = True         # to log device placement\n",
    "sess = tf.compat.v1.Session(config=config) \n",
    "tf.compat.v1.keras.backend.set_session(sess)"
   ]
  },
  {
   "cell_type": "code",
   "execution_count": 2,
   "metadata": {},
   "outputs": [],
   "source": [
    "%load_ext autoreload\n",
    "%aimport helper, tests\n",
    "%autoreload 1"
   ]
  },
  {
   "cell_type": "code",
   "execution_count": 3,
   "metadata": {},
   "outputs": [],
   "source": [
    "import collections\n",
    "\n",
    "import helper\n",
    "import numpy as np\n",
    "import project_tests as tests\n",
    "\n",
    "from keras.preprocessing.text import Tokenizer\n",
    "from keras.preprocessing.sequence import pad_sequences\n",
    "from keras.models import Model\n",
    "from keras.layers import GRU, Input, Dense, TimeDistributed, Activation, RepeatVector, Bidirectional\n",
    "from keras.layers.embeddings import Embedding\n",
    "from keras.optimizers import Adam\n",
    "from keras.losses import sparse_categorical_crossentropy"
   ]
  },
  {
   "cell_type": "markdown",
   "metadata": {},
   "source": [
    "### Verify access to the GPU\n",
    "The following test applies only if you expect to be using a GPU, e.g., while running in a Udacity Workspace or using an AWS instance with GPU support. Run the next cell, and verify that the device_type is \"GPU\".\n",
    "- If the device is not GPU & you are running from a Udacity Workspace, then save your workspace with the icon at the top, then click \"enable\" at the bottom of the workspace.\n",
    "- If the device is not GPU & you are running from an AWS instance, then refer to the cloud computing instructions in the classroom to verify your setup steps."
   ]
  },
  {
   "cell_type": "code",
   "execution_count": 4,
   "metadata": {},
   "outputs": [
    {
     "name": "stdout",
     "output_type": "stream",
     "text": [
      "[name: \"/device:CPU:0\"\n",
      "device_type: \"CPU\"\n",
      "memory_limit: 268435456\n",
      "locality {\n",
      "}\n",
      "incarnation: 3660399292857681913\n",
      ", name: \"/device:XLA_CPU:0\"\n",
      "device_type: \"XLA_CPU\"\n",
      "memory_limit: 17179869184\n",
      "locality {\n",
      "}\n",
      "incarnation: 13171377335830405871\n",
      "physical_device_desc: \"device: XLA_CPU device\"\n",
      ", name: \"/device:XLA_GPU:0\"\n",
      "device_type: \"XLA_GPU\"\n",
      "memory_limit: 17179869184\n",
      "locality {\n",
      "}\n",
      "incarnation: 15872592286641467051\n",
      "physical_device_desc: \"device: XLA_GPU device\"\n",
      ", name: \"/device:GPU:0\"\n",
      "device_type: \"GPU\"\n",
      "memory_limit: 7320569120\n",
      "locality {\n",
      "  bus_id: 1\n",
      "  links {\n",
      "  }\n",
      "}\n",
      "incarnation: 7767931843268375161\n",
      "physical_device_desc: \"device: 0, name: GeForce RTX 2060 SUPER, pci bus id: 0000:08:00.0, compute capability: 7.5\"\n",
      "]\n"
     ]
    }
   ],
   "source": [
    "from tensorflow.python.client import device_lib\n",
    "print(device_lib.list_local_devices())"
   ]
  },
  {
   "cell_type": "markdown",
   "metadata": {},
   "source": [
    "## Dataset\n",
    "We begin by investigating the dataset that will be used to train and evaluate your pipeline.  The most common datasets used for machine translation are from [WMT](http://www.statmt.org/).  However, that will take a long time to train a neural network on.  We'll be using a dataset we created for this project that contains a small vocabulary.  You'll be able to train your model in a reasonable time with this dataset.\n",
    "### Load Data\n",
    "The data is located in `data/small_vocab_en` and `data/small_vocab_fr`. The `small_vocab_en` file contains English sentences with their French translations in the `small_vocab_fr` file. Load the English and French data from these files from running the cell below."
   ]
  },
  {
   "cell_type": "code",
   "execution_count": 5,
   "metadata": {},
   "outputs": [
    {
     "name": "stdout",
     "output_type": "stream",
     "text": [
      "Dataset Loaded\n"
     ]
    }
   ],
   "source": [
    "# Load English data\n",
    "english_sentences = helper.load_data('data/small_vocab_en')\n",
    "# Load French data\n",
    "french_sentences = helper.load_data('data/small_vocab_fr')\n",
    "\n",
    "print('Dataset Loaded')"
   ]
  },
  {
   "cell_type": "markdown",
   "metadata": {},
   "source": [
    "### Files\n",
    "Each line in `small_vocab_en` contains an English sentence with the respective translation in each line of `small_vocab_fr`.  View the first two lines from each file."
   ]
  },
  {
   "cell_type": "code",
   "execution_count": 6,
   "metadata": {},
   "outputs": [
    {
     "name": "stdout",
     "output_type": "stream",
     "text": [
      "small_vocab_en Line 1:  new jersey is sometimes quiet during autumn , and it is snowy in april .\n",
      "small_vocab_fr Line 1:  new jersey est parfois calme pendant l' automne , et il est neigeux en avril .\n",
      "small_vocab_en Line 2:  the united states is usually chilly during july , and it is usually freezing in november .\n",
      "small_vocab_fr Line 2:  les états-unis est généralement froid en juillet , et il gèle habituellement en novembre .\n"
     ]
    }
   ],
   "source": [
    "for sample_i in range(2):\n",
    "    print('small_vocab_en Line {}:  {}'.format(sample_i + 1, english_sentences[sample_i]))\n",
    "    print('small_vocab_fr Line {}:  {}'.format(sample_i + 1, french_sentences[sample_i]))"
   ]
  },
  {
   "cell_type": "markdown",
   "metadata": {},
   "source": [
    "From looking at the sentences, you can see they have been preprocessed already.  The puncuations have been delimited using spaces. All the text have been converted to lowercase.  This should save you some time, but the text requires more preprocessing.\n",
    "### Vocabulary\n",
    "The complexity of the problem is determined by the complexity of the vocabulary.  A more complex vocabulary is a more complex problem.  Let's look at the complexity of the dataset we'll be working with."
   ]
  },
  {
   "cell_type": "code",
   "execution_count": 7,
   "metadata": {},
   "outputs": [
    {
     "name": "stdout",
     "output_type": "stream",
     "text": [
      "1823250 English words.\n",
      "227 unique English words.\n",
      "10 Most common words in the English dataset:\n",
      "\"is\" \",\" \".\" \"in\" \"it\" \"during\" \"the\" \"but\" \"and\" \"sometimes\"\n",
      "\n",
      "1961295 French words.\n",
      "355 unique French words.\n",
      "10 Most common words in the French dataset:\n",
      "\"est\" \".\" \",\" \"en\" \"il\" \"les\" \"mais\" \"et\" \"la\" \"parfois\"\n"
     ]
    }
   ],
   "source": [
    "english_words_counter = collections.Counter([word for sentence in english_sentences for word in sentence.split()])\n",
    "french_words_counter = collections.Counter([word for sentence in french_sentences for word in sentence.split()])\n",
    "\n",
    "print('{} English words.'.format(len([word for sentence in english_sentences for word in sentence.split()])))\n",
    "print('{} unique English words.'.format(len(english_words_counter)))\n",
    "print('10 Most common words in the English dataset:')\n",
    "print('\"' + '\" \"'.join(list(zip(*english_words_counter.most_common(10)))[0]) + '\"')\n",
    "print()\n",
    "print('{} French words.'.format(len([word for sentence in french_sentences for word in sentence.split()])))\n",
    "print('{} unique French words.'.format(len(french_words_counter)))\n",
    "print('10 Most common words in the French dataset:')\n",
    "print('\"' + '\" \"'.join(list(zip(*french_words_counter.most_common(10)))[0]) + '\"')"
   ]
  },
  {
   "cell_type": "markdown",
   "metadata": {},
   "source": [
    "For comparison, _Alice's Adventures in Wonderland_ contains 2,766 unique words of a total of 15,500 words.\n",
    "## Preprocess\n",
    "For this project, you won't use text data as input to your model. Instead, you'll convert the text into sequences of integers using the following preprocess methods:\n",
    "1. Tokenize the words into ids\n",
    "2. Add padding to make all the sequences the same length.\n",
    "\n",
    "Time to start preprocessing the data...\n",
    "### Tokenize (IMPLEMENTATION)\n",
    "For a neural network to predict on text data, it first has to be turned into data it can understand. Text data like \"dog\" is a sequence of ASCII character encodings.  Since a neural network is a series of multiplication and addition operations, the input data needs to be number(s).\n",
    "\n",
    "We can turn each character into a number or each word into a number.  These are called character and word ids, respectively.  Character ids are used for character level models that generate text predictions for each character.  A word level model uses word ids that generate text predictions for each word.  Word level models tend to learn better, since they are lower in complexity, so we'll use those.\n",
    "\n",
    "Turn each sentence into a sequence of words ids using Keras's [`Tokenizer`](https://keras.io/preprocessing/text/#tokenizer) function. Use this function to tokenize `english_sentences` and `french_sentences` in the cell below.\n",
    "\n",
    "Running the cell will run `tokenize` on sample data and show output for debugging."
   ]
  },
  {
   "cell_type": "code",
   "execution_count": 8,
   "metadata": {},
   "outputs": [
    {
     "name": "stdout",
     "output_type": "stream",
     "text": [
      "{'the': 1, 'quick': 2, 'a': 3, 'brown': 4, 'fox': 5, 'jumps': 6, 'over': 7, 'lazy': 8, 'dog': 9, 'by': 10, 'jove': 11, 'my': 12, 'study': 13, 'of': 14, 'lexicography': 15, 'won': 16, 'prize': 17, 'this': 18, 'is': 19, 'short': 20, 'sentence': 21}\n",
      "\n",
      "Sequence 1 in x\n",
      "  Input:  The quick brown fox jumps over the lazy dog .\n",
      "  Output: [1, 2, 4, 5, 6, 7, 1, 8, 9]\n",
      "Sequence 2 in x\n",
      "  Input:  By Jove , my quick study of lexicography won a prize .\n",
      "  Output: [10, 11, 12, 2, 13, 14, 15, 16, 3, 17]\n",
      "Sequence 3 in x\n",
      "  Input:  This is a short sentence .\n",
      "  Output: [18, 19, 3, 20, 21]\n"
     ]
    }
   ],
   "source": [
    "def tokenize(x):\n",
    "    \"\"\"\n",
    "    Tokenize x\n",
    "    :param x: List of sentences/strings to be tokenized\n",
    "    :return: Tuple of (tokenized x data, tokenizer used to tokenize x)\n",
    "    \"\"\"\n",
    "    # Initiate the tokenizer\n",
    "    tokenizer = Tokenizer()\n",
    "    \n",
    "    # Fit the tokenizer to the text\n",
    "    tokenizer.fit_on_texts(x)\n",
    "    \n",
    "    return tokenizer.texts_to_sequences(x), tokenizer\n",
    "tests.test_tokenize(tokenize)\n",
    "\n",
    "# Tokenize Example output\n",
    "text_sentences = [\n",
    "    'The quick brown fox jumps over the lazy dog .',\n",
    "    'By Jove , my quick study of lexicography won a prize .',\n",
    "    'This is a short sentence .']\n",
    "text_tokenized, text_tokenizer = tokenize(text_sentences)\n",
    "print(text_tokenizer.word_index)\n",
    "print()\n",
    "for sample_i, (sent, token_sent) in enumerate(zip(text_sentences, text_tokenized)):\n",
    "    print('Sequence {} in x'.format(sample_i + 1))\n",
    "    print('  Input:  {}'.format(sent))\n",
    "    print('  Output: {}'.format(token_sent))"
   ]
  },
  {
   "cell_type": "markdown",
   "metadata": {},
   "source": [
    "### Padding (IMPLEMENTATION)\n",
    "When batching the sequence of word ids together, each sequence needs to be the same length.  Since sentences are dynamic in length, we can add padding to the end of the sequences to make them the same length.\n",
    "\n",
    "Make sure all the English sequences have the same length and all the French sequences have the same length by adding padding to the **end** of each sequence using Keras's [`pad_sequences`](https://keras.io/preprocessing/sequence/#pad_sequences) function."
   ]
  },
  {
   "cell_type": "code",
   "execution_count": 9,
   "metadata": {},
   "outputs": [
    {
     "name": "stdout",
     "output_type": "stream",
     "text": [
      "Sequence 1 in x\n",
      "  Input:  [1 2 4 5 6 7 1 8 9]\n",
      "  Output: [1 2 4 5 6 7 1 8 9 0]\n",
      "Sequence 2 in x\n",
      "  Input:  [10 11 12  2 13 14 15 16  3 17]\n",
      "  Output: [10 11 12  2 13 14 15 16  3 17]\n",
      "Sequence 3 in x\n",
      "  Input:  [18 19  3 20 21]\n",
      "  Output: [18 19  3 20 21  0  0  0  0  0]\n"
     ]
    }
   ],
   "source": [
    "def pad(x, length=None):\n",
    "    \"\"\"\n",
    "    Pad x\n",
    "    :param x: List of sequences.\n",
    "    :param length: Length to pad the sequence to.  If None, use length of longest sequence in x.\n",
    "    :return: Padded numpy array of sequences\n",
    "    \"\"\"\n",
    "    return pad_sequences(x, maxlen=length, padding='post')\n",
    "tests.test_pad(pad)\n",
    "\n",
    "# Pad Tokenized output\n",
    "test_pad = pad(text_tokenized)\n",
    "for sample_i, (token_sent, pad_sent) in enumerate(zip(text_tokenized, test_pad)):\n",
    "    print('Sequence {} in x'.format(sample_i + 1))\n",
    "    print('  Input:  {}'.format(np.array(token_sent)))\n",
    "    print('  Output: {}'.format(pad_sent))"
   ]
  },
  {
   "cell_type": "markdown",
   "metadata": {},
   "source": [
    "### Preprocess Pipeline\n",
    "Your focus for this project is to build neural network architecture, so we won't ask you to create a preprocess pipeline.  Instead, we've provided you with the implementation of the `preprocess` function."
   ]
  },
  {
   "cell_type": "code",
   "execution_count": 10,
   "metadata": {},
   "outputs": [
    {
     "name": "stdout",
     "output_type": "stream",
     "text": [
      "Data Preprocessed\n",
      "Max English sentence length: 15\n",
      "Max French sentence length: 21\n",
      "English vocabulary size: 199\n",
      "French vocabulary size: 344\n"
     ]
    }
   ],
   "source": [
    "def preprocess(x, y):\n",
    "    \"\"\"\n",
    "    Preprocess x and y\n",
    "    :param x: Feature List of sentences\n",
    "    :param y: Label List of sentences\n",
    "    :return: Tuple of (Preprocessed x, Preprocessed y, x tokenizer, y tokenizer)\n",
    "    \"\"\"\n",
    "    preprocess_x, x_tk = tokenize(x)\n",
    "    preprocess_y, y_tk = tokenize(y)\n",
    "\n",
    "    preprocess_x = pad(preprocess_x)\n",
    "    preprocess_y = pad(preprocess_y)\n",
    "\n",
    "    # Keras's sparse_categorical_crossentropy function requires the labels to be in 3 dimensions\n",
    "    preprocess_y = preprocess_y.reshape(*preprocess_y.shape, 1)\n",
    "\n",
    "    return preprocess_x, preprocess_y, x_tk, y_tk\n",
    "\n",
    "preproc_english_sentences, preproc_french_sentences, english_tokenizer, french_tokenizer =\\\n",
    "    preprocess(english_sentences, french_sentences)\n",
    "    \n",
    "max_english_sequence_length = preproc_english_sentences.shape[1]\n",
    "max_french_sequence_length = preproc_french_sentences.shape[1]\n",
    "english_vocab_size = len(english_tokenizer.word_index)\n",
    "french_vocab_size = len(french_tokenizer.word_index)\n",
    "\n",
    "print('Data Preprocessed')\n",
    "print(\"Max English sentence length:\", max_english_sequence_length)\n",
    "print(\"Max French sentence length:\", max_french_sequence_length)\n",
    "print(\"English vocabulary size:\", english_vocab_size)\n",
    "print(\"French vocabulary size:\", french_vocab_size)"
   ]
  },
  {
   "cell_type": "markdown",
   "metadata": {},
   "source": [
    "## Models\n",
    "In this section, you will experiment with various neural network architectures.\n",
    "You will begin by training four relatively simple architectures.\n",
    "- Model 1 is a simple RNN\n",
    "- Model 2 is a RNN with Embedding\n",
    "- Model 3 is a Bidirectional RNN\n",
    "- Model 4 is an optional Encoder-Decoder RNN\n",
    "\n",
    "After experimenting with the four simple architectures, you will construct a deeper architecture that is designed to outperform all four models.\n",
    "### Ids Back to Text\n",
    "The neural network will be translating the input to words ids, which isn't the final form we want.  We want the French translation.  The function `logits_to_text` will bridge the gab between the logits from the neural network to the French translation.  You'll be using this function to better understand the output of the neural network."
   ]
  },
  {
   "cell_type": "code",
   "execution_count": 11,
   "metadata": {},
   "outputs": [
    {
     "name": "stdout",
     "output_type": "stream",
     "text": [
      "`logits_to_text` function loaded.\n"
     ]
    }
   ],
   "source": [
    "def logits_to_text(logits, tokenizer):\n",
    "    \"\"\"\n",
    "    Turn logits from a neural network into text using the tokenizer\n",
    "    :param logits: Logits from a neural network\n",
    "    :param tokenizer: Keras Tokenizer fit on the labels\n",
    "    :return: String that represents the text of the logits\n",
    "    \"\"\"\n",
    "    index_to_words = {id: word for word, id in tokenizer.word_index.items()}\n",
    "    index_to_words[0] = '<PAD>'\n",
    "\n",
    "    return ' '.join([index_to_words[prediction] for prediction in np.argmax(logits, 1)])\n",
    "\n",
    "print('`logits_to_text` function loaded.')"
   ]
  },
  {
   "cell_type": "markdown",
   "metadata": {},
   "source": [
    "### Model 1: RNN (IMPLEMENTATION)\n",
    "![RNN](images/rnn.png)\n",
    "A basic RNN model is a good baseline for sequence data.  In this model, you'll build a RNN that translates English to French."
   ]
  },
  {
   "cell_type": "code",
   "execution_count": 12,
   "metadata": {},
   "outputs": [
    {
     "name": "stdout",
     "output_type": "stream",
     "text": [
      "Model: \"model_1\"\n",
      "_________________________________________________________________\n",
      "Layer (type)                 Output Shape              Param #   \n",
      "=================================================================\n",
      "input_1 (InputLayer)         (None, 21, 1)             0         \n",
      "_________________________________________________________________\n",
      "gru_2 (GRU)                  (None, 21, 1024)          3151872   \n",
      "_________________________________________________________________\n",
      "dense_1 (Dense)              (None, 21, 344)           352600    \n",
      "=================================================================\n",
      "Total params: 3,504,472\n",
      "Trainable params: 3,504,472\n",
      "Non-trainable params: 0\n",
      "_________________________________________________________________\n",
      "Train on 110288 samples, validate on 27573 samples\n",
      "Epoch 1/10\n",
      "110288/110288 [==============================] - 31s 282us/step - loss: 1.2661 - accuracy: 0.6354 - val_loss: nan - val_accuracy: 0.6786\n",
      "Epoch 2/10\n",
      "110288/110288 [==============================] - 30s 273us/step - loss: 0.8772 - accuracy: 0.7003 - val_loss: nan - val_accuracy: 0.7046\n",
      "Epoch 3/10\n",
      "110288/110288 [==============================] - 31s 278us/step - loss: 0.7272 - accuracy: 0.7508 - val_loss: nan - val_accuracy: 0.7569\n",
      "Epoch 4/10\n",
      "110288/110288 [==============================] - 30s 275us/step - loss: 0.6362 - accuracy: 0.7838 - val_loss: nan - val_accuracy: 0.7994\n",
      "Epoch 5/10\n",
      "110288/110288 [==============================] - 30s 269us/step - loss: 0.5855 - accuracy: 0.8008 - val_loss: nan - val_accuracy: 0.7590\n",
      "Epoch 6/10\n",
      "110288/110288 [==============================] - 29s 267us/step - loss: 0.5462 - accuracy: 0.8145 - val_loss: nan - val_accuracy: 0.8401\n",
      "Epoch 7/10\n",
      "110288/110288 [==============================] - 30s 270us/step - loss: 0.5067 - accuracy: 0.8281 - val_loss: nan - val_accuracy: 0.8311\n",
      "Epoch 8/10\n",
      "110288/110288 [==============================] - 29s 266us/step - loss: 0.4836 - accuracy: 0.8352 - val_loss: nan - val_accuracy: 0.8359\n",
      "Epoch 9/10\n",
      "110288/110288 [==============================] - 29s 266us/step - loss: 0.4598 - accuracy: 0.8438 - val_loss: nan - val_accuracy: 0.8525\n",
      "Epoch 10/10\n",
      "110288/110288 [==============================] - 29s 265us/step - loss: 0.4227 - accuracy: 0.8574 - val_loss: nan - val_accuracy: 0.8607\n",
      "new jersey est parfois calme en l' automne et il est neigeux en avril <PAD> <PAD> <PAD> <PAD> <PAD> <PAD> <PAD>\n"
     ]
    }
   ],
   "source": [
    "def simple_model(input_shape, output_sequence_length, english_vocab_size, french_vocab_size):\n",
    "    \"\"\"\n",
    "    Build and train a basic RNN on x and y\n",
    "    :param input_shape: Tuple of input shape\n",
    "    :param output_sequence_length: Length of output sequence\n",
    "    :param english_vocab_size: Number of unique English words in the dataset\n",
    "    :param french_vocab_size: Number of unique French words in the dataset\n",
    "    :return: Keras model built, but not trained\n",
    "    \"\"\"\n",
    "    # Define hyperparameters\n",
    "    learning_rate = 0.001\n",
    "    \n",
    "    # Build the model\n",
    "    \n",
    "    # Inputs\n",
    "    inputs = Input(shape = input_shape[1:])\n",
    "    # 1st layer - GRU \n",
    "    x = GRU(units = 1024, return_sequences = True)(inputs)    \n",
    "    # 2nd layer - GRU \n",
    "    x = GRU(units = 1024, return_sequences = True)(inputs)\n",
    "    # 3rd layer - Fully Connected\n",
    "    logits = Dense(units = french_vocab_size, activation = \"softmax\")(x)\n",
    "    \n",
    "    # Define the model\n",
    "    model = Model(inputs = inputs, outputs = logits)\n",
    "    model.compile(loss=sparse_categorical_crossentropy,\n",
    "                  optimizer=Adam(learning_rate),\n",
    "                  metrics=['accuracy'])\n",
    "    return model\n",
    "#tests.test_simple_model(simple_model)\n",
    "\n",
    "# Reshaping the input to work with a basic RNN\n",
    "tmp_x = pad(preproc_english_sentences, max_french_sequence_length)\n",
    "tmp_x = tmp_x.reshape((-1, preproc_french_sentences.shape[-2], 1))\n",
    "\n",
    "# Train the neural network\n",
    "simple_rnn_model = simple_model(\n",
    "    tmp_x.shape,\n",
    "    max_french_sequence_length,\n",
    "    english_vocab_size,\n",
    "    french_vocab_size)\n",
    "simple_rnn_model.summary()\n",
    "simple_rnn_model.fit(tmp_x, preproc_french_sentences, batch_size=128, epochs=10, validation_split=0.2)\n",
    "\n",
    "# Print prediction(s)\n",
    "print(logits_to_text(simple_rnn_model.predict(tmp_x[:1])[0], french_tokenizer))"
   ]
  },
  {
   "cell_type": "code",
   "execution_count": 13,
   "metadata": {},
   "outputs": [
    {
     "name": "stdout",
     "output_type": "stream",
     "text": [
      "English sentence:            \n",
      " new jersey is sometimes quiet during autumn , and it is snowy in april .\n",
      "\n",
      "Predicted sentence:        \n",
      " new jersey est parfois calme en l' automne et il est neigeux en avril <PAD> <PAD> <PAD> <PAD> <PAD> <PAD> <PAD>\n",
      "\n",
      "Translate French sentence: \n",
      " new jersey est parfois calme pendant l' automne , et il est neigeux en avril .\n"
     ]
    }
   ],
   "source": [
    "print(\"English sentence:            \\n\", english_sentences[0])\n",
    "print(\"\\nPredicted sentence:        \\n\", logits_to_text(simple_rnn_model.predict(tmp_x[:1])[0], french_tokenizer))\n",
    "print(\"\\nTranslate French sentence: \\n\", french_sentences[0])"
   ]
  },
  {
   "cell_type": "markdown",
   "metadata": {},
   "source": [
    "### Model 2: Embedding (IMPLEMENTATION)\n",
    "![RNN](images/embedding.png)\n",
    "You've turned the words into ids, but there's a better representation of a word.  This is called word embeddings.  An embedding is a vector representation of the word that is close to similar words in n-dimensional space, where the n represents the size of the embedding vectors.\n",
    "\n",
    "In this model, you'll create a RNN model using embedding."
   ]
  },
  {
   "cell_type": "code",
   "execution_count": 14,
   "metadata": {},
   "outputs": [
    {
     "name": "stdout",
     "output_type": "stream",
     "text": [
      "Model: \"model_2\"\n",
      "_________________________________________________________________\n",
      "Layer (type)                 Output Shape              Param #   \n",
      "=================================================================\n",
      "input_2 (InputLayer)         (None, 21)                0         \n",
      "_________________________________________________________________\n",
      "embedding_1 (Embedding)      (None, 21, 256)           50944     \n",
      "_________________________________________________________________\n",
      "gru_3 (GRU)                  (None, 21, 512)           1181184   \n",
      "_________________________________________________________________\n",
      "gru_4 (GRU)                  (None, 21, 512)           1574400   \n",
      "_________________________________________________________________\n",
      "dense_2 (Dense)              (None, 21, 1376)          705888    \n",
      "_________________________________________________________________\n",
      "dense_3 (Dense)              (None, 21, 344)           473688    \n",
      "=================================================================\n",
      "Total params: 3,986,104\n",
      "Trainable params: 3,986,104\n",
      "Non-trainable params: 0\n",
      "_________________________________________________________________\n"
     ]
    },
    {
     "name": "stderr",
     "output_type": "stream",
     "text": [
      "/home/nttputus/py-env/pip/mdai/lib/python3.6/site-packages/tensorflow/python/framework/indexed_slices.py:434: UserWarning: Converting sparse IndexedSlices to a dense Tensor of unknown shape. This may consume a large amount of memory.\n",
      "  \"Converting sparse IndexedSlices to a dense Tensor of unknown shape. \"\n"
     ]
    },
    {
     "name": "stdout",
     "output_type": "stream",
     "text": [
      "Train on 110288 samples, validate on 27573 samples\n",
      "Epoch 1/10\n",
      "110288/110288 [==============================] - 48s 435us/step - loss: 0.7613 - accuracy: 0.7982 - val_loss: nan - val_accuracy: 0.8958\n",
      "Epoch 2/10\n",
      "110288/110288 [==============================] - 47s 429us/step - loss: 0.2662 - accuracy: 0.9096 - val_loss: nan - val_accuracy: 0.9172\n",
      "Epoch 3/10\n",
      "110288/110288 [==============================] - 48s 437us/step - loss: 0.2181 - accuracy: 0.9244 - val_loss: nan - val_accuracy: 0.9269\n",
      "Epoch 4/10\n",
      "110288/110288 [==============================] - 48s 432us/step - loss: 0.1971 - accuracy: 0.9307 - val_loss: nan - val_accuracy: 0.9322\n",
      "Epoch 5/10\n",
      "110288/110288 [==============================] - 47s 429us/step - loss: 0.1849 - accuracy: 0.9339 - val_loss: nan - val_accuracy: 0.9329\n",
      "Epoch 6/10\n",
      "110288/110288 [==============================] - 47s 429us/step - loss: 0.1768 - accuracy: 0.9361 - val_loss: nan - val_accuracy: 0.9362\n",
      "Epoch 7/10\n",
      "110288/110288 [==============================] - 49s 441us/step - loss: 0.1692 - accuracy: 0.9382 - val_loss: nan - val_accuracy: 0.9367\n",
      "Epoch 8/10\n",
      "110288/110288 [==============================] - 47s 430us/step - loss: 0.1664 - accuracy: 0.9390 - val_loss: nan - val_accuracy: 0.9349\n",
      "Epoch 9/10\n",
      "110288/110288 [==============================] - 47s 425us/step - loss: 0.1622 - accuracy: 0.9400 - val_loss: nan - val_accuracy: 0.9362\n",
      "Epoch 10/10\n",
      "110288/110288 [==============================] - 47s 424us/step - loss: 0.1599 - accuracy: 0.9407 - val_loss: nan - val_accuracy: 0.9369\n",
      "new jersey est parfois calme en l' automne et il est neigeux en avril <PAD> <PAD> <PAD> <PAD> <PAD> <PAD> <PAD>\n"
     ]
    }
   ],
   "source": [
    "def embed_model(input_shape, output_sequence_length, english_vocab_size, french_vocab_size):\n",
    "    \"\"\"\n",
    "    Build and train a RNN model using word embedding on x and y\n",
    "    :param input_shape: Tuple of input shape\n",
    "    :param output_sequence_length: Length of output sequence\n",
    "    :param english_vocab_size: Number of unique English words in the dataset\n",
    "    :param french_vocab_size: Number of unique French words in the dataset\n",
    "    :return: Keras model built, but not trained\n",
    "    \"\"\"\n",
    "    # Hyperparameters\n",
    "    learning_rate = 1e-3\n",
    "    embedding_size = 256\n",
    "    GRU_units = 512\n",
    "    FCL_units = french_vocab_size * 4\n",
    "\n",
    "    # Build the model\n",
    "    # 1. Inputs\n",
    "    inputs = Input(shape = input_shape[1:])\n",
    "    \n",
    "    # 2. Embedding layer\n",
    "    embedding_layer = Embedding(english_vocab_size, embedding_size)(inputs)\n",
    "    # 3. 1st layer - GRU\n",
    "    x = GRU(units = GRU_units, return_sequences = True)(embedding_layer)\n",
    "    # 4. 2nd layer - GRU\n",
    "    x = GRU(units = GRU_units, return_sequences = True)(x)\n",
    "    # 5. 3rd layer - Fully Connected\n",
    "    x = Dense(units = FCL_units, activation = 'relu')(x)\n",
    "    # 6. Output layer\n",
    "    logits = Dense(units = french_vocab_size, activation = \"softmax\")(x)\n",
    "    \n",
    "    model = Model(inputs = inputs, outputs = logits)\n",
    "    \n",
    "    model.compile(loss = sparse_categorical_crossentropy,\n",
    "                  optimizer = Adam(learning_rate),\n",
    "                  metrics = ['accuracy'])\n",
    "    return model\n",
    "#tests.test_embed_model(embed_model)\n",
    "\n",
    "# Reshape the input\n",
    "tmp_x = pad(preproc_english_sentences, preproc_french_sentences.shape[1])\n",
    "#tmp_x = tmp_x.reshape((-1, preproc_french_sentences.shape[-2], 1))\n",
    "\n",
    "# Train the neural network\n",
    "embed_rnn_model = embed_model(\n",
    "    tmp_x.shape,\n",
    "    max_french_sequence_length,\n",
    "    english_vocab_size,\n",
    "    french_vocab_size)\n",
    "embed_rnn_model.summary()\n",
    "embed_rnn_model.fit(tmp_x, preproc_french_sentences, batch_size = 128, epochs = 10, validation_split=0.2)\n",
    "\n",
    "# Print prediction(s)\n",
    "print(logits_to_text(embed_rnn_model.predict(tmp_x[:1])[0], french_tokenizer))"
   ]
  },
  {
   "cell_type": "code",
   "execution_count": 15,
   "metadata": {},
   "outputs": [
    {
     "name": "stdout",
     "output_type": "stream",
     "text": [
      "English sentence:            \n",
      " new jersey is sometimes quiet during autumn , and it is snowy in april .\n",
      "\n",
      "Predicted sentence:        \n",
      " new jersey est parfois calme en l' automne et il est neigeux en avril <PAD> <PAD> <PAD> <PAD> <PAD> <PAD> <PAD>\n",
      "\n",
      "Translate French sentence: \n",
      " new jersey est parfois calme pendant l' automne , et il est neigeux en avril .\n"
     ]
    }
   ],
   "source": [
    "print(\"English sentence:            \\n\", english_sentences[0])\n",
    "print(\"\\nPredicted sentence:        \\n\", logits_to_text(embed_rnn_model.predict(tmp_x[:1])[0], french_tokenizer))\n",
    "print(\"\\nTranslate French sentence: \\n\", french_sentences[0])"
   ]
  },
  {
   "cell_type": "markdown",
   "metadata": {},
   "source": [
    "### Model 3: Bidirectional RNNs (IMPLEMENTATION)\n",
    "![RNN](images/bidirectional.png)\n",
    "One restriction of a RNN is that it can't see the future input, only the past.  This is where bidirectional recurrent neural networks come in.  They are able to see the future data."
   ]
  },
  {
   "cell_type": "code",
   "execution_count": 16,
   "metadata": {},
   "outputs": [
    {
     "name": "stdout",
     "output_type": "stream",
     "text": [
      "Model: \"model_3\"\n",
      "_________________________________________________________________\n",
      "Layer (type)                 Output Shape              Param #   \n",
      "=================================================================\n",
      "input_3 (InputLayer)         (None, 21, 1)             0         \n",
      "_________________________________________________________________\n",
      "bidirectional_1 (Bidirection (None, 21, 1024)          1579008   \n",
      "_________________________________________________________________\n",
      "bidirectional_2 (Bidirection (None, 21, 1024)          4721664   \n",
      "_________________________________________________________________\n",
      "time_distributed_1 (TimeDist (None, 21, 1376)          1410400   \n",
      "_________________________________________________________________\n",
      "dense_5 (Dense)              (None, 21, 344)           473688    \n",
      "=================================================================\n",
      "Total params: 8,184,760\n",
      "Trainable params: 8,184,760\n",
      "Non-trainable params: 0\n",
      "_________________________________________________________________\n",
      "Train on 110288 samples, validate on 27573 samples\n",
      "Epoch 1/10\n",
      "110288/110288 [==============================] - 92s 832us/step - loss: 1.0217 - accuracy: 0.6898 - val_loss: nan - val_accuracy: 0.7685\n",
      "Epoch 2/10\n",
      "110288/110288 [==============================] - 91s 823us/step - loss: 0.6109 - accuracy: 0.7829 - val_loss: nan - val_accuracy: 0.7773\n",
      "Epoch 3/10\n",
      "110288/110288 [==============================] - 90s 817us/step - loss: 0.5058 - accuracy: 0.8134 - val_loss: nan - val_accuracy: 0.8025\n",
      "Epoch 4/10\n",
      "110288/110288 [==============================] - 91s 823us/step - loss: 0.4012 - accuracy: 0.8542 - val_loss: nan - val_accuracy: 0.7709\n",
      "Epoch 5/10\n",
      "110288/110288 [==============================] - 91s 828us/step - loss: 0.3816 - accuracy: 0.8610 - val_loss: nan - val_accuracy: 0.8688\n",
      "Epoch 6/10\n",
      "110288/110288 [==============================] - 92s 831us/step - loss: 0.3428 - accuracy: 0.8757 - val_loss: nan - val_accuracy: 0.8775\n",
      "Epoch 7/10\n",
      "110288/110288 [==============================] - 91s 827us/step - loss: 0.3187 - accuracy: 0.8850 - val_loss: nan - val_accuracy: 0.9041\n",
      "Epoch 8/10\n",
      "110288/110288 [==============================] - 91s 827us/step - loss: 0.2814 - accuracy: 0.8969 - val_loss: nan - val_accuracy: 0.9154\n",
      "Epoch 9/10\n",
      "110288/110288 [==============================] - 92s 831us/step - loss: 0.2721 - accuracy: 0.9028 - val_loss: nan - val_accuracy: 0.9120\n",
      "Epoch 10/10\n",
      "110288/110288 [==============================] - 93s 844us/step - loss: 0.2532 - accuracy: 0.9081 - val_loss: nan - val_accuracy: 0.9187\n",
      "new jersey est parfois calme pendant l' automne et il est neigeux en avril <PAD> <PAD> <PAD> <PAD> <PAD> <PAD> <PAD>\n"
     ]
    }
   ],
   "source": [
    "def bd_model(input_shape, output_sequence_length, english_vocab_size, french_vocab_size):\n",
    "    \"\"\"\n",
    "    Build and train a bidirectional RNN model on x and y\n",
    "    :param input_shape: Tuple of input shape\n",
    "    :param output_sequence_length: Length of output sequence\n",
    "    :param english_vocab_size: Number of unique English words in the dataset\n",
    "    :param french_vocab_size: Number of unique French words in the dataset\n",
    "    :return: Keras model built, but not trained\n",
    "    \"\"\"\n",
    "    # Hyperparameters\n",
    "    learning_rate = 1e-3\n",
    "    GRU_units = 512\n",
    "    FCL_units = french_vocab_size * 4\n",
    "\n",
    "    # Build the model\n",
    "    # 1. Inputs\n",
    "    inputs = Input(shape = input_shape[1:])\n",
    "    #inputs = Reshape((inputs, embedding_size))(inputs) \n",
    "    # 2. 1st layer - GRU\n",
    "    x = Bidirectional(GRU(units = GRU_units, return_sequences = True))(inputs)\n",
    "    # 3. 2nd layer - GRU\n",
    "    x = Bidirectional(GRU(units = GRU_units, return_sequences = True))(x)\n",
    "    # 4. 3rd layer - Fully Connected\n",
    "    x = TimeDistributed(Dense(units = FCL_units, activation = 'relu'))(x)\n",
    "    # 5. Output layer\n",
    "    logits = Dense(units = french_vocab_size, activation = \"softmax\")(x)\n",
    "    \n",
    "    model = Model(inputs = inputs, outputs = logits)\n",
    "    \n",
    "    model.compile(loss = sparse_categorical_crossentropy,\n",
    "                  optimizer = Adam(learning_rate),\n",
    "                  metrics = ['accuracy'])\n",
    "    return model\n",
    "#tests.test_bd_model(bd_model)\n",
    "\n",
    "\n",
    "# Reshape the input\n",
    "tmp_x = pad(preproc_english_sentences, preproc_french_sentences.shape[1])\n",
    "tmp_x = tmp_x.reshape((-1, preproc_french_sentences.shape[-2], 1))\n",
    "\n",
    "# Train the neural network\n",
    "bd_rnn_model = bd_model(\n",
    "    tmp_x.shape,\n",
    "    max_french_sequence_length,\n",
    "    english_vocab_size,\n",
    "    french_vocab_size)\n",
    "bd_rnn_model.summary()\n",
    "bd_rnn_model.fit(tmp_x, preproc_french_sentences, batch_size = 128, epochs = 10, validation_split=0.2)\n",
    "\n",
    "# Print prediction(s)\n",
    "print(logits_to_text(bd_rnn_model.predict(tmp_x[:1])[0], french_tokenizer))"
   ]
  },
  {
   "cell_type": "code",
   "execution_count": 17,
   "metadata": {},
   "outputs": [
    {
     "name": "stdout",
     "output_type": "stream",
     "text": [
      "English sentence:            \n",
      " new jersey is sometimes quiet during autumn , and it is snowy in april .\n",
      "\n",
      "Predicted sentence:        \n",
      " new jersey est parfois calme pendant l' automne et il est neigeux en avril <PAD> <PAD> <PAD> <PAD> <PAD> <PAD> <PAD>\n",
      "\n",
      "Translate French sentence: \n",
      " new jersey est parfois calme pendant l' automne , et il est neigeux en avril .\n"
     ]
    }
   ],
   "source": [
    "print(\"English sentence:            \\n\", english_sentences[0])\n",
    "print(\"\\nPredicted sentence:        \\n\", logits_to_text(bd_rnn_model.predict(tmp_x[:1])[0], french_tokenizer))\n",
    "print(\"\\nTranslate French sentence: \\n\", french_sentences[0])"
   ]
  },
  {
   "cell_type": "markdown",
   "metadata": {},
   "source": [
    "### Model 4: Encoder-Decoder (OPTIONAL)\n",
    "Time to look at encoder-decoder models.  This model is made up of an encoder and decoder. The encoder creates a matrix representation of the sentence.  The decoder takes this matrix as input and predicts the translation as output.\n",
    "\n",
    "Create an encoder-decoder model in the cell below."
   ]
  },
  {
   "cell_type": "code",
   "execution_count": 18,
   "metadata": {},
   "outputs": [
    {
     "name": "stdout",
     "output_type": "stream",
     "text": [
      "Model: \"model_4\"\n",
      "_________________________________________________________________\n",
      "Layer (type)                 Output Shape              Param #   \n",
      "=================================================================\n",
      "input_4 (InputLayer)         (None, 21, 1)             0         \n",
      "_________________________________________________________________\n",
      "gru_7 (GRU)                  (None, 512)               789504    \n",
      "_________________________________________________________________\n",
      "repeat_vector_1 (RepeatVecto (None, 21, 512)           0         \n",
      "_________________________________________________________________\n",
      "gru_8 (GRU)                  (None, 21, 512)           1574400   \n",
      "_________________________________________________________________\n",
      "dense_6 (Dense)              (None, 21, 1376)          705888    \n",
      "_________________________________________________________________\n",
      "time_distributed_2 (TimeDist (None, 21, 344)           473688    \n",
      "=================================================================\n",
      "Total params: 3,543,480\n",
      "Trainable params: 3,543,480\n",
      "Non-trainable params: 0\n",
      "_________________________________________________________________\n",
      "Train on 110288 samples, validate on 27573 samples\n",
      "Epoch 1/10\n",
      "110288/110288 [==============================] - 47s 424us/step - loss: 1.6118 - accuracy: 0.5829 - val_loss: nan - val_accuracy: 0.6339\n",
      "Epoch 2/10\n",
      "110288/110288 [==============================] - 45s 405us/step - loss: 1.0927 - accuracy: 0.6643 - val_loss: nan - val_accuracy: 0.6942\n",
      "Epoch 3/10\n",
      "110288/110288 [==============================] - 45s 406us/step - loss: 0.8977 - accuracy: 0.7080 - val_loss: nan - val_accuracy: 0.7328\n",
      "Epoch 4/10\n",
      "110288/110288 [==============================] - 44s 403us/step - loss: 0.7762 - accuracy: 0.7378 - val_loss: nan - val_accuracy: 0.7662\n",
      "Epoch 5/10\n",
      "110288/110288 [==============================] - 45s 407us/step - loss: 0.6860 - accuracy: 0.7641 - val_loss: nan - val_accuracy: 0.7683\n",
      "Epoch 6/10\n",
      "110288/110288 [==============================] - 44s 401us/step - loss: 0.6274 - accuracy: 0.7827 - val_loss: nan - val_accuracy: 0.7943\n",
      "Epoch 7/10\n",
      "110288/110288 [==============================] - 44s 402us/step - loss: 0.5924 - accuracy: 0.7936 - val_loss: nan - val_accuracy: 0.7756\n",
      "Epoch 8/10\n",
      "110288/110288 [==============================] - 44s 402us/step - loss: 0.5613 - accuracy: 0.8029 - val_loss: nan - val_accuracy: 0.8249\n",
      "Epoch 9/10\n",
      "110288/110288 [==============================] - 44s 402us/step - loss: 0.5355 - accuracy: 0.8116 - val_loss: nan - val_accuracy: 0.7551\n",
      "Epoch 10/10\n",
      "110288/110288 [==============================] - 44s 402us/step - loss: 0.5159 - accuracy: 0.8146 - val_loss: nan - val_accuracy: 0.8192\n",
      "new jersey est parfois calme pendant l' automne et il est neigeux en avril <PAD> <PAD> <PAD> <PAD> <PAD> <PAD> <PAD>\n"
     ]
    }
   ],
   "source": [
    "def encdec_model(input_shape, output_sequence_length, english_vocab_size, french_vocab_size):\n",
    "    \"\"\"\n",
    "    Build and train an encoder-decoder model on x and y\n",
    "    :param input_shape: Tuple of input shape\n",
    "    :param output_sequence_length: Length of output sequence\n",
    "    :param english_vocab_size: Number of unique English words in the dataset\n",
    "    :param french_vocab_size: Number of unique French words in the dataset\n",
    "    :return: Keras model built, but not trained\n",
    "    \"\"\"\n",
    "    # Hyperparameters\n",
    "    learning_rate = 1e-3\n",
    "    GRU_units = 512\n",
    "    FCL_units = french_vocab_size * 4\n",
    "\n",
    "    # Build the model\n",
    "    # 1. Inputs\n",
    "    inputs = Input(shape = input_shape[1:])\n",
    "    \n",
    "    # 2. 1st layer - GRU\n",
    "    encoder = GRU(units = GRU_units, return_sequences = False)(inputs)\n",
    "    # Feed the 2D output of the encoder to the 3D input of the decoder\n",
    "    repeat_vector = RepeatVector(output_sequence_length)(encoder)\n",
    "    # 3. 2nd layer - GRU \n",
    "    decoder = GRU(units = GRU_units, return_sequences = True)(repeat_vector)\n",
    "    # 4. 3rd layer - Fully Connected\n",
    "    fully_connected_layer = Dense(units = FCL_units, activation = 'relu')(decoder)\n",
    "    \n",
    "    # 5. Output layer\n",
    "    logits = TimeDistributed(Dense(units = french_vocab_size, activation = \"softmax\"))(fully_connected_layer)\n",
    "    \n",
    "    model = Model(inputs = inputs, outputs = logits)\n",
    "    \n",
    "    model.compile(loss = sparse_categorical_crossentropy,\n",
    "                  optimizer = Adam(learning_rate),\n",
    "                  metrics = ['accuracy'])\n",
    "    return model\n",
    "\n",
    "#tests.test_encdec_model(encdec_model)\n",
    "\n",
    "\n",
    "# Reshape the input\n",
    "tmp_x = pad(preproc_english_sentences, preproc_french_sentences.shape[1])\n",
    "tmp_x = tmp_x.reshape((-1, preproc_french_sentences.shape[-2], 1))\n",
    "\n",
    "# Train the neural network\n",
    "encdec_rnn_model = encdec_model(\n",
    "    tmp_x.shape,\n",
    "    max_french_sequence_length,\n",
    "    english_vocab_size,\n",
    "    french_vocab_size)\n",
    "encdec_rnn_model.summary()\n",
    "encdec_rnn_model.fit(tmp_x, preproc_french_sentences, batch_size = 128, epochs = 10, validation_split=0.2)\n",
    "\n",
    "# Print prediction(s)\n",
    "print(logits_to_text(encdec_rnn_model.predict(tmp_x[:1])[0], french_tokenizer))"
   ]
  },
  {
   "cell_type": "markdown",
   "metadata": {},
   "source": [
    "### Model 5: Custom (IMPLEMENTATION)\n",
    "Use everything you learned from the previous models to create a model that incorporates embedding and a bidirectional rnn into one model."
   ]
  },
  {
   "cell_type": "code",
   "execution_count": 19,
   "metadata": {},
   "outputs": [
    {
     "name": "stdout",
     "output_type": "stream",
     "text": [
      "Final Model Loaded\n"
     ]
    }
   ],
   "source": [
    "def model_final(input_shape, output_sequence_length, english_vocab_size, french_vocab_size):\n",
    "    \"\"\"\n",
    "    Build and train a model that incorporates embedding, encoder-decoder, and bidirectional RNN on x and y\n",
    "    :param input_shape: Tuple of input shape\n",
    "    :param output_sequence_length: Length of output sequence\n",
    "    :param english_vocab_size: Number of unique English words in the dataset\n",
    "    :param french_vocab_size: Number of unique French words in the dataset\n",
    "    :return: Keras model built, but not trained\n",
    "    \"\"\"\n",
    "    learning_rate = 1e-3\n",
    "    embedding_size = 128\n",
    "    GRU_units_num = 512\n",
    "    FCL_units_num = french_vocab_size * 4\n",
    "    \n",
    "    # Build the model\n",
    "    # 1. Inputs\n",
    "    inputs = Input(shape = input_shape[1:])\n",
    "    \n",
    "    # 2. Embedding layer\n",
    "    embedding_layer = Embedding(english_vocab_size, embedding_size)(inputs)\n",
    "    # 3. GRU Layer\n",
    "    encoder = Bidirectional(GRU(units = GRU_units_num, return_sequences = False))(embedding_layer)\n",
    "    # Feed 2D output of the encoder to the 3D input of the decoder\n",
    "    repeat_vector = RepeatVector(output_sequence_length)(encoder)\n",
    "    # 4. GRU Layer\n",
    "    decoder = Bidirectional(GRU(units = GRU_units_num, return_sequences = True))(repeat_vector)\n",
    "    # 5. Fully Connected Layer\n",
    "    fully_connected_layer = TimeDistributed(Dense(units = FCL_units_num, activation = 'relu'))(decoder)\n",
    "    \n",
    "    # 6. Output layer\n",
    "    logits = TimeDistributed(Dense(units = french_vocab_size, activation = \"softmax\"))(fully_connected_layer)\n",
    "    \n",
    "    model = Model(inputs = inputs, outputs = logits)\n",
    "    \n",
    "    model.compile(loss = sparse_categorical_crossentropy,\n",
    "                  optimizer = Adam(learning_rate),\n",
    "                  metrics = ['accuracy'])\n",
    "    return model\n",
    "\n",
    "#tests.test_model_final(model_final)\n",
    "print('Final Model Loaded')"
   ]
  },
  {
   "cell_type": "markdown",
   "metadata": {},
   "source": [
    "## Prediction (IMPLEMENTATION)"
   ]
  },
  {
   "cell_type": "code",
   "execution_count": 20,
   "metadata": {},
   "outputs": [
    {
     "name": "stdout",
     "output_type": "stream",
     "text": [
      "Model: \"model_5\"\n",
      "_________________________________________________________________\n",
      "Layer (type)                 Output Shape              Param #   \n",
      "=================================================================\n",
      "input_5 (InputLayer)         (None, 15)                0         \n",
      "_________________________________________________________________\n",
      "embedding_2 (Embedding)      (None, 15, 128)           25600     \n",
      "_________________________________________________________________\n",
      "bidirectional_3 (Bidirection (None, 1024)              1969152   \n",
      "_________________________________________________________________\n",
      "repeat_vector_2 (RepeatVecto (None, 21, 1024)          0         \n",
      "_________________________________________________________________\n",
      "bidirectional_4 (Bidirection (None, 21, 1024)          4721664   \n",
      "_________________________________________________________________\n",
      "time_distributed_3 (TimeDist (None, 21, 1380)          1414500   \n",
      "_________________________________________________________________\n",
      "time_distributed_4 (TimeDist (None, 21, 345)           476445    \n",
      "=================================================================\n",
      "Total params: 8,607,361\n",
      "Trainable params: 8,607,361\n",
      "Non-trainable params: 0\n",
      "_________________________________________________________________\n",
      "Train on 110288 samples, validate on 27573 samples\n",
      "Epoch 1/10\n",
      "110288/110288 [==============================] - 82s 741us/step - loss: 1.2654 - accuracy: 0.6726 - val_loss: 0.7305 - val_accuracy: 0.7822\n",
      "Epoch 2/10\n",
      "110288/110288 [==============================] - 81s 731us/step - loss: 0.4907 - accuracy: 0.8517 - val_loss: 0.3333 - val_accuracy: 0.8974\n",
      "Epoch 3/10\n",
      "110288/110288 [==============================] - 81s 732us/step - loss: 0.2433 - accuracy: 0.9246 - val_loss: 0.2361 - val_accuracy: 0.9282\n",
      "Epoch 4/10\n",
      "110288/110288 [==============================] - 81s 731us/step - loss: 0.1685 - accuracy: 0.9472 - val_loss: 0.1478 - val_accuracy: 0.9546\n",
      "Epoch 5/10\n",
      "110288/110288 [==============================] - 82s 741us/step - loss: 0.1297 - accuracy: 0.9597 - val_loss: 0.1173 - val_accuracy: 0.9646\n",
      "Epoch 6/10\n",
      "110288/110288 [==============================] - 81s 734us/step - loss: 0.1019 - accuracy: 0.9686 - val_loss: 0.1033 - val_accuracy: 0.9684\n",
      "Epoch 7/10\n",
      "110288/110288 [==============================] - 84s 760us/step - loss: 0.0929 - accuracy: 0.9715 - val_loss: 0.0921 - val_accuracy: 0.9721\n",
      "Epoch 8/10\n",
      "110288/110288 [==============================] - 86s 784us/step - loss: 0.0807 - accuracy: 0.9753 - val_loss: 0.0859 - val_accuracy: 0.9749\n",
      "Epoch 9/10\n",
      "110288/110288 [==============================] - 85s 768us/step - loss: 0.0726 - accuracy: 0.9780 - val_loss: 0.0816 - val_accuracy: 0.9760\n",
      "Epoch 10/10\n",
      "110288/110288 [==============================] - 86s 779us/step - loss: 0.0620 - accuracy: 0.9812 - val_loss: 0.0786 - val_accuracy: 0.9780\n",
      "Saved model to disk\n",
      "Sample 1:\n",
      "il a vu un vieux camion jaune <PAD> <PAD> <PAD> <PAD> <PAD> <PAD> <PAD> <PAD> <PAD> <PAD> <PAD> <PAD> <PAD> <PAD>\n",
      "Il a vu un vieux camion jaune\n",
      "Sample 2:\n",
      "new jersey est parfois calme pendant l' automne et il est neigeux en avril <PAD> <PAD> <PAD> <PAD> <PAD> <PAD> <PAD>\n",
      "new jersey est parfois calme pendant l' automne et il est neigeux en avril <PAD> <PAD> <PAD> <PAD> <PAD> <PAD> <PAD>\n"
     ]
    }
   ],
   "source": [
    "def final_predictions(x, y, x_tk, y_tk):\n",
    "    \"\"\"\n",
    "    Gets predictions using the final model\n",
    "    :param x: Preprocessed English data\n",
    "    :param y: Preprocessed French data\n",
    "    :param x_tk: English tokenizer\n",
    "    :param y_tk: French tokenizer\n",
    "    \"\"\"\n",
    "   # Train the neural network\n",
    "    model = model_final(\n",
    "        x.shape,\n",
    "        y.shape[1],\n",
    "        len(x_tk.word_index) + 1,\n",
    "        len(y_tk.word_index) + 1)\n",
    "    model.summary()\n",
    "    # serialize model to JSON\n",
    "    model_json = model.to_json()\n",
    "    with open(\"model.json\", \"w\") as json_file:\n",
    "        json_file.write(model_json)\n",
    "\n",
    "    model.fit(x, y, batch_size = 128, epochs = 10, validation_split=0.2)\n",
    "    \n",
    "    # serialize weights to HDF5\n",
    "    model.save_weights(\"model.h5\")\n",
    "    print(\"Saved model to disk\")\n",
    "    \n",
    "    # DON'T EDIT ANYTHING BELOW THIS LINE\n",
    "    y_id_to_word = {value: key for key, value in y_tk.word_index.items()}\n",
    "    y_id_to_word[0] = '<PAD>'\n",
    "\n",
    "    sentence = 'he saw a old yellow truck'\n",
    "    sentence = [x_tk.word_index[word] for word in sentence.split()]\n",
    "    sentence = pad_sequences([sentence], maxlen=x.shape[-1], padding='post')\n",
    "    sentences = np.array([sentence[0], x[0]])\n",
    "    predictions = model.predict(sentences, len(sentences))\n",
    "\n",
    "    print('Sample 1:')\n",
    "    print(' '.join([y_id_to_word[np.argmax(x)] for x in predictions[0]]))\n",
    "    print('Il a vu un vieux camion jaune')\n",
    "    print('Sample 2:')\n",
    "    print(' '.join([y_id_to_word[np.argmax(x)] for x in predictions[1]]))\n",
    "    print(' '.join([y_id_to_word[np.max(x)] for x in y[0]]))\n",
    "\n",
    "\n",
    "final_predictions(preproc_english_sentences, preproc_french_sentences, english_tokenizer, french_tokenizer)"
   ]
  },
  {
   "cell_type": "markdown",
   "metadata": {},
   "source": [
    "## Submission\n",
    "When you're ready to submit, complete the following steps:\n",
    "1. Review the [rubric](https://review.udacity.com/#!/rubrics/1004/view) to ensure your submission meets all requirements to pass\n",
    "2. Generate an HTML version of this notebook\n",
    "\n",
    "  - Run the next cell to attempt automatic generation (this is the recommended method in Workspaces)\n",
    "  - Navigate to **FILE -> Download as -> HTML (.html)**\n",
    "  - Manually generate a copy using `nbconvert` from your shell terminal\n",
    "```\n",
    "$ pip install nbconvert\n",
    "$ python -m nbconvert machine_translation.ipynb\n",
    "```\n",
    "  \n",
    "3. Submit the project\n",
    "\n",
    "  - If you are in a Workspace, simply click the \"Submit Project\" button (bottom towards the right)\n",
    "  \n",
    "  - Otherwise, add the following files into a zip archive and submit them \n",
    "  - `helper.py`\n",
    "  - `machine_translation.ipynb`\n",
    "  - `machine_translation.html`\n",
    "    - You can export the notebook by navigating to **File -> Download as -> HTML (.html)**."
   ]
  },
  {
   "cell_type": "markdown",
   "metadata": {},
   "source": [
    "### Generate the html\n",
    "\n",
    "**Save your notebook before running the next cell to generate the HTML output.** Then submit your project."
   ]
  },
  {
   "cell_type": "code",
   "execution_count": 21,
   "metadata": {},
   "outputs": [
    {
     "data": {
      "text/plain": [
       "['[NbConvertApp] Converting notebook machine_translation.ipynb to html',\n",
       " '[NbConvertApp] Writing 386613 bytes to machine_translation.html',\n",
       " '[NbConvertApp] Converting notebook machine_translation-zh.ipynb to html',\n",
       " '[NbConvertApp] Writing 326441 bytes to machine_translation-zh.html']"
      ]
     },
     "execution_count": 21,
     "metadata": {},
     "output_type": "execute_result"
    }
   ],
   "source": [
    "# Save before you run this cell!\n",
    "!!jupyter nbconvert *.ipynb"
   ]
  },
  {
   "cell_type": "markdown",
   "metadata": {},
   "source": [
    "## Optional Enhancements\n",
    "\n",
    "This project focuses on learning various network architectures for machine translation, but we don't evaluate the models according to best practices by splitting the data into separate test & training sets -- so the model accuracy is overstated. Use the [`sklearn.model_selection.train_test_split()`](http://scikit-learn.org/stable/modules/generated/sklearn.model_selection.train_test_split.html) function to create separate training & test datasets, then retrain each of the models using only the training set and evaluate the prediction accuracy using the hold out test set. Does the \"best\" model change?"
   ]
  }
 ],
 "metadata": {
  "kernelspec": {
   "display_name": "Python 3",
   "language": "python",
   "name": "python3"
  },
  "language_info": {
   "codemirror_mode": {
    "name": "ipython",
    "version": 3
   },
   "file_extension": ".py",
   "mimetype": "text/x-python",
   "name": "python",
   "nbconvert_exporter": "python",
   "pygments_lexer": "ipython3",
   "version": "3.6.9"
  }
 },
 "nbformat": 4,
 "nbformat_minor": 1
}
